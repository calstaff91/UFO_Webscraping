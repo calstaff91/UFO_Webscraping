{
 "cells": [
  {
   "cell_type": "markdown",
   "metadata": {},
   "source": [
    "## UFO Reportings Scrape\n",
    "\n",
    "### Callum Staff\n",
    "\n",
    "### September 2017\n",
    "\n",
    "This is code for a webscrape of UFO reports from the [National UFO Reporting Center](http://www.nuforc.org/) (NUFORC) in the United States.\n",
    "\n",
    "It provides a raw data table containing:\n",
    "* When the occurrence was\n",
    "* When the occurrence was reported\n",
    "* When the occurrence was posted on NUFORC\n",
    "* Where the occurence was\n",
    "* The shape of the UFO\n",
    "* The duration of the occurrence\n",
    "* A description of the occurrence\n",
    "\n",
    "The data webscraped in this script has not been cleaned."
   ]
  },
  {
   "cell_type": "markdown",
   "metadata": {},
   "source": [
    "Before we start though, we need to load in the libraries we require, and if scraping from a secure network, set the proxies."
   ]
  },
  {
   "cell_type": "code",
<<<<<<< HEAD
   "execution_count": 28,
=======
   "execution_count": 7,
>>>>>>> ffd32f59b2e1f5f98b08da87f3f983cca41539cb
   "metadata": {
    "collapsed": true
   },
   "outputs": [],
   "source": [
    "#Load in required libraries\n",
    "import pandas as pd\n",
    "import requests\n",
    "from requests.auth import HTTPProxyAuth\n",
    "from lxml import html\n",
    "import timeit\n",
    "import sys\n",
    "import matplotlib.pyplot as plt\n",
<<<<<<< HEAD
    "import numpy as np"
=======
    "import numpy as np\n",
    "from lxml.etree import XMLSyntaxError\n",
    "import os"
>>>>>>> ffd32f59b2e1f5f98b08da87f3f983cca41539cb
   ]
  },
  {
   "cell_type": "code",
<<<<<<< HEAD
   "execution_count": 29,
=======
   "execution_count": 20,
>>>>>>> ffd32f59b2e1f5f98b08da87f3f983cca41539cb
   "metadata": {
    "collapsed": true
   },
   "outputs": [],
   "source": [
    "#Set scrape proxy\n",
    "proxy_string = 'http://192.168.2.40:8080'\n",
    "requests = requests.Session()\n",
    "requests.trust_env=False\n",
    "requests.proxies = {\"http\": proxy_string , \"https\": proxy_string}\n",
    "requests.auth = HTTPProxyAuth(\"ad\\USERNAME\",\"PASSWORD\")"
   ]
  },
  {
   "cell_type": "markdown",
   "metadata": {},
   "source": [
    "### Webscraping\n",
    "\n",
    "The process for the webscraping will be:\n",
    "1. Scrape the links for the month in which the occurence was: [http://www.nuforc.org/webreports/ndxevent.html](http://www.nuforc.org/webreports/ndxevent.html)\n",
    "2. Scrape the links for each occurrence (an example [here](http://www.nuforc.org/webreports/ndxe201709.html) - see links on lefthand side)\n",
    "3. Scrape the content for each occurrence"
   ]
  },
  {
   "cell_type": "code",
   "execution_count": 30,
   "metadata": {
    "collapsed": true
   },
   "outputs": [],
   "source": [
    "#Set the URL where the monthly occurence links are: base_url\n",
    "base_url = 'http://www.nuforc.org/webreports/ndxevent.html'"
   ]
  },
  {
   "cell_type": "code",
   "execution_count": 31,
   "metadata": {
    "collapsed": true
   },
   "outputs": [],
   "source": [
    "### Scrape the first page using the base_url variable\n",
    "\n",
    "#Create empty links to scrape the data into\n",
    "links_list = []\n",
    "titles_list = []\n",
    "\n",
    "page = requests.get(base_url) #This sends a request to url_base and gets the contents of the webpage back\n",
    "tree = html.fromstring(page.content) #This turns the contents of the webpage into a tree\n",
    "links = tree.xpath('//font/a/@href') #This is the XPath for the hyperlink to each of the months\n",
    "links = ['http://www.nuforc.org/webreports/' + url for url in links] #This concatenates the hyperlink with the site url\n",
    "title = tree.xpath('//font/a/text()') #This is the Xpath for the title of each thread, as detailed above\n",
    "links_list = links_list + links #This adds each link to the empty list\n",
    "titles_list = titles_list + title #This adds each title to the empty list"
   ]
  },
  {
   "cell_type": "code",
   "execution_count": 32,
   "metadata": {},
   "outputs": [
    {
     "data": {
      "text/html": [
       "<div>\n",
       "<table border=\"1\" class=\"dataframe\">\n",
       "  <thead>\n",
       "    <tr style=\"text-align: right;\">\n",
       "      <th></th>\n",
       "      <th>Date</th>\n",
       "      <th>URL</th>\n",
       "    </tr>\n",
       "  </thead>\n",
       "  <tbody>\n",
       "    <tr>\n",
       "      <th>0</th>\n",
       "      <td>09/2017</td>\n",
       "      <td>http://www.nuforc.org/webreports/ndxe201709.html</td>\n",
       "    </tr>\n",
       "    <tr>\n",
       "      <th>1</th>\n",
       "      <td>08/2017</td>\n",
       "      <td>http://www.nuforc.org/webreports/ndxe201708.html</td>\n",
       "    </tr>\n",
       "    <tr>\n",
       "      <th>2</th>\n",
       "      <td>07/2017</td>\n",
       "      <td>http://www.nuforc.org/webreports/ndxe201707.html</td>\n",
       "    </tr>\n",
       "    <tr>\n",
       "      <th>3</th>\n",
       "      <td>06/2017</td>\n",
       "      <td>http://www.nuforc.org/webreports/ndxe201706.html</td>\n",
       "    </tr>\n",
       "    <tr>\n",
       "      <th>4</th>\n",
       "      <td>05/2017</td>\n",
       "      <td>http://www.nuforc.org/webreports/ndxe201705.html</td>\n",
       "    </tr>\n",
       "    <tr>\n",
       "      <th>5</th>\n",
       "      <td>04/2017</td>\n",
       "      <td>http://www.nuforc.org/webreports/ndxe201704.html</td>\n",
       "    </tr>\n",
       "    <tr>\n",
       "      <th>6</th>\n",
       "      <td>03/2017</td>\n",
       "      <td>http://www.nuforc.org/webreports/ndxe201703.html</td>\n",
       "    </tr>\n",
       "    <tr>\n",
       "      <th>7</th>\n",
       "      <td>02/2017</td>\n",
       "      <td>http://www.nuforc.org/webreports/ndxe201702.html</td>\n",
       "    </tr>\n",
       "    <tr>\n",
       "      <th>8</th>\n",
       "      <td>01/2017</td>\n",
       "      <td>http://www.nuforc.org/webreports/ndxe201701.html</td>\n",
       "    </tr>\n",
       "  </tbody>\n",
       "</table>\n",
       "</div>"
      ],
      "text/plain": [
       "      Date                                               URL\n",
       "0  09/2017  http://www.nuforc.org/webreports/ndxe201709.html\n",
       "1  08/2017  http://www.nuforc.org/webreports/ndxe201708.html\n",
       "2  07/2017  http://www.nuforc.org/webreports/ndxe201707.html\n",
       "3  06/2017  http://www.nuforc.org/webreports/ndxe201706.html\n",
       "4  05/2017  http://www.nuforc.org/webreports/ndxe201705.html\n",
       "5  04/2017  http://www.nuforc.org/webreports/ndxe201704.html\n",
       "6  03/2017  http://www.nuforc.org/webreports/ndxe201703.html\n",
       "7  02/2017  http://www.nuforc.org/webreports/ndxe201702.html\n",
       "8  01/2017  http://www.nuforc.org/webreports/ndxe201701.html"
      ]
     },
     "execution_count": 32,
     "metadata": {},
     "output_type": "execute_result"
    }
   ],
   "source": [
    "#Compile monthly report links into a dictionary and dataframe and then print\n",
    "monthly_reports = {\"Date\": titles_list,\n",
    "                  \"URL\": links_list}\n",
    "monthly_reports_df = pd.DataFrame(monthly_reports)\n",
    "monthly_reports_df[0:9]"
   ]
  },
  {
   "cell_type": "code",
   "execution_count": null,
   "metadata": {
    "collapsed": true,
    "scrolled": true
   },
   "outputs": [],
   "source": [
    "#For each month, scrape the links to each occurence\n",
    "\n",
    "#Create empty lists to scrape the data into\n",
    "report_links = []\n",
    "\n",
    "#Create empty lists to show time taken and predicted time taken\n",
    "time_elapsed = []\n",
    "pred_completion = []\n",
    "\n",
    "#Create objects to record number of pages scraped and time taken\n",
    "counter = 0\n",
    "start = timeit.default_timer()\n",
    "\n",
    "for page_url in monthly_reports_df['URL']:\n",
    "    page = requests.get(page_url) #This sends a request to url_base and gets the contents of the webpage back\n",
    "    tree = html.fromstring(page.content) #This turns the contents of the webpage into a tree\n",
    "    links = tree.xpath('//font/a/@href') #This is the XPath for the hyperlink to each of the reports, detailed above\n",
    "    links = ['http://www.nuforc.org/webreports/' + url for url in links] #This concatenates the hyperlink with the site url\n",
    "    report_links = report_links + links #This adds each link to the empty list\n",
    "    \n",
    "    #Record time taken and number of pages scraped\n",
    "    counter +=1\n",
    "    stop = timeit.default_timer()\n",
    "    \n",
    "    time_elapsed.append(str((stop - start)/60))\n",
    "    pred_completion.append(str((stop - start)/counter*len(titles_list)/60))\n",
    "    \n",
    "    print(counter) #Number of pages scraped\n",
    "    print(round((stop - start)/60,2)) #Time taken\n",
    "    print(round((stop - start)/counter*len(titles_list)/60,2)) #Predicted time taken\n",
    "\n",
    "#Compile time recordings and predictions into dictionary\n",
    "scrape_analysis1 = {\"Time Elapsed\": time_elapsed,\n",
    "                 \"Predicted Time to Completion\": pred_completion}"
   ]
  },
  {
   "cell_type": "code",
   "execution_count": null,
<<<<<<< HEAD
   "metadata": {
    "collapsed": true
   },
   "outputs": [],
   "source": [
    "#Save URLs and time analysis into CSV, to prevent need to rescrape if running at a later date\n",
    "pd.DataFrame(scrape_analysis1).to_csv(\"scrape_analysis1.csv\")\n",
    "pd.DataFrame({\"URL\":report_links}).to_csv(\"report_links.csv\")"
=======
   "metadata": {},
   "outputs": [],
   "source": [
    "#Save URLs and time analysis into CSV, to prevent need to rescrape if running at a later date\n",
    "pd.DataFrame(scrape_analysis1).to_csv(\"Links/scrape_analysis1.csv\")\n",
    "pd.DataFrame({\"URL\":report_links}).to_csv(\"Links/report_links.csv\")"
>>>>>>> ffd32f59b2e1f5f98b08da87f3f983cca41539cb
   ]
  },
  {
   "cell_type": "code",
<<<<<<< HEAD
   "execution_count": 21,
=======
   "execution_count": 3,
>>>>>>> ffd32f59b2e1f5f98b08da87f3f983cca41539cb
   "metadata": {},
   "outputs": [
    {
     "data": {
      "text/html": [
       "<div>\n",
<<<<<<< HEAD
=======
       "<style>\n",
       "    .dataframe thead tr:only-child th {\n",
       "        text-align: right;\n",
       "    }\n",
       "\n",
       "    .dataframe thead th {\n",
       "        text-align: left;\n",
       "    }\n",
       "\n",
       "    .dataframe tbody tr th {\n",
       "        vertical-align: top;\n",
       "    }\n",
       "</style>\n",
>>>>>>> ffd32f59b2e1f5f98b08da87f3f983cca41539cb
       "<table border=\"1\" class=\"dataframe\">\n",
       "  <thead>\n",
       "    <tr style=\"text-align: right;\">\n",
       "      <th></th>\n",
       "      <th>Unnamed: 0</th>\n",
       "      <th>Predicted Time to Completion</th>\n",
       "      <th>Time Elapsed</th>\n",
       "    </tr>\n",
       "  </thead>\n",
       "  <tbody>\n",
       "    <tr>\n",
       "      <th>0</th>\n",
       "      <td>0</td>\n",
       "      <td>23.196383</td>\n",
       "      <td>0.025660</td>\n",
       "    </tr>\n",
       "    <tr>\n",
       "      <th>1</th>\n",
       "      <td>1</td>\n",
       "      <td>12.540886</td>\n",
       "      <td>0.027745</td>\n",
       "    </tr>\n",
       "    <tr>\n",
       "      <th>2</th>\n",
       "      <td>2</td>\n",
       "      <td>9.151835</td>\n",
       "      <td>0.030371</td>\n",
       "    </tr>\n",
       "    <tr>\n",
       "      <th>3</th>\n",
       "      <td>3</td>\n",
       "      <td>7.361431</td>\n",
       "      <td>0.032573</td>\n",
       "    </tr>\n",
       "    <tr>\n",
       "      <th>4</th>\n",
       "      <td>4</td>\n",
       "      <td>6.264179</td>\n",
       "      <td>0.034647</td>\n",
       "    </tr>\n",
       "    <tr>\n",
       "      <th>5</th>\n",
       "      <td>5</td>\n",
       "      <td>5.563640</td>\n",
       "      <td>0.036927</td>\n",
       "    </tr>\n",
       "    <tr>\n",
       "      <th>6</th>\n",
       "      <td>6</td>\n",
       "      <td>5.212423</td>\n",
       "      <td>0.040362</td>\n",
       "    </tr>\n",
       "    <tr>\n",
       "      <th>7</th>\n",
       "      <td>7</td>\n",
       "      <td>4.856531</td>\n",
       "      <td>0.042978</td>\n",
       "    </tr>\n",
       "    <tr>\n",
       "      <th>8</th>\n",
       "      <td>8</td>\n",
       "      <td>16.655558</td>\n",
       "      <td>0.165819</td>\n",
       "    </tr>\n",
       "  </tbody>\n",
       "</table>\n",
       "</div>"
      ],
      "text/plain": [
       "   Unnamed: 0  Predicted Time to Completion  Time Elapsed\n",
       "0           0                     23.196383      0.025660\n",
       "1           1                     12.540886      0.027745\n",
       "2           2                      9.151835      0.030371\n",
       "3           3                      7.361431      0.032573\n",
       "4           4                      6.264179      0.034647\n",
       "5           5                      5.563640      0.036927\n",
       "6           6                      5.212423      0.040362\n",
       "7           7                      4.856531      0.042978\n",
       "8           8                     16.655558      0.165819"
      ]
     },
<<<<<<< HEAD
     "execution_count": 21,
=======
     "execution_count": 3,
>>>>>>> ffd32f59b2e1f5f98b08da87f3f983cca41539cb
     "metadata": {},
     "output_type": "execute_result"
    }
   ],
   "source": [
    "#Reload links to each report from CSV\n",
<<<<<<< HEAD
    "report_links = pd.read_csv(\"report_links.csv\")\n",
    "scrape_analysis1 = pd.read_csv(\"scrape_analysis1.csv\")\n",
=======
    "report_links = pd.read_csv(\"Links/report_links.csv\")\n",
    "scrape_analysis1 = pd.read_csv(\"Links/scrape_analysis.csv\")\n",
>>>>>>> ffd32f59b2e1f5f98b08da87f3f983cca41539cb
    "scrape_analysis1[0:9]"
   ]
  },
  {
   "cell_type": "markdown",
   "metadata": {},
   "source": [
    "<hr/>\n",
    "\n",
    "As a quick aside, let's see how long scrapes were taking and how this affected predictions:\n",
    "\n",
    "Predicted total time is the time taken so far divided by the number of pages multipled by total number of pages to scrape.\n",
    "\n",
    "We can see here that early on the pages were taking ages to scrape for som reason, so the predicted time was way higher for this particular scrape (it could vary on each run due to things link network traffic)."
   ]
  },
  {
   "cell_type": "code",
<<<<<<< HEAD
   "execution_count": 22,
=======
   "execution_count": 4,
>>>>>>> ffd32f59b2e1f5f98b08da87f3f983cca41539cb
   "metadata": {},
   "outputs": [
    {
     "data": {
<<<<<<< HEAD
      "image/png": "iVBORw0KGgoAAAANSUhEUgAAAYgAAAEKCAYAAAAIO8L1AAAABHNCSVQICAgIfAhkiAAAAAlwSFlz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\nKIkAliAAWAE44F0cF7eapgAAAABJRU5ErkJggg==\n",
      "text/plain": [
       "<matplotlib.figure.Figure at 0xb5ada90>"
=======
      "image/png": "iVBORw0KGgoAAAANSUhEUgAAAYgAAAEKCAYAAAAIO8L1AAAABHNCSVQICAgIfAhkiAAAAAlwSFlz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\ngg==\n",
      "text/plain": [
       "<matplotlib.figure.Figure at 0x7fa81f2bcbd0>"
>>>>>>> ffd32f59b2e1f5f98b08da87f3f983cca41539cb
      ]
     },
     "metadata": {},
     "output_type": "display_data"
    }
   ],
   "source": [
    "fig, ax = plt.subplots()\n",
    "plt.rc(\"figure\", facecolor=\"white\")\n",
    "plt.plot(range(1,len(scrape_analysis1)+1),scrape_analysis1['Time Elapsed'])\n",
    "plt.plot(range(1,len(scrape_analysis1)+1),scrape_analysis1['Predicted Time to Completion'])\n",
    "plt.legend(['Time Elapsed', 'Predicted Time to Completion'], loc='upper right')\n",
    "ax.set_xlabel('Pages Scraped', fontsize = 11)\n",
    "ax.set_ylabel('Time (Minutes)', fontsize = 11)\n",
    "ax.spines['right'].set_visible(False)\n",
    "ax.spines['top'].set_visible(False)\n",
    "plt.show()"
   ]
  },
  {
   "cell_type": "code",
   "execution_count": null,
   "metadata": {
<<<<<<< HEAD
    "collapsed": true
=======
    "scrolled": true
>>>>>>> ffd32f59b2e1f5f98b08da87f3f983cca41539cb
   },
   "outputs": [],
   "source": [
    "#Finally, scrape the content from each report\n",
    "\n",
    "#Create empty lists to scrape the data into\n",
    "Occurred = []\n",
    "Reported = []\n",
    "Posted = []\n",
    "Location = []\n",
    "Shape = []\n",
    "Duration = []\n",
    "Description = []\n",
    "\n",
    "#Create empty lists to show time taken and predicted time taken\n",
    "time_elapsed = []\n",
    "pred_completion = []\n",
    "\n",
    "#Create objects to record number of pages scraped and time taken\n",
    "counter = 0\n",
    "start = timeit.default_timer()\n",
    "\n",
<<<<<<< HEAD
    "for url in report_links['URL']:\n",
    "\n",
    "    page = requests.get(url) #This sends a request to url_base and gets the contents of the webpage back\n",
=======
    "\n",
    "for url in report_links['URL']:\n",
    "\n",
    "    page = requests.get(url) #This sends a request to url_base and gets the contents of the webpage back\n",
    "<<<<<<< local\n",
    "=======\n",
>>>>>>> ffd32f59b2e1f5f98b08da87f3f983cca41539cb
    "    tree = html.fromstring(page.content) #This turns the contents of the webpage into a tree\n",
    "    Report = tree.xpath('//td/font/text()') #This is the XPath for the report contents, detailed above\n",
    "\n",
    "    #Here we split up all of the report content data\n",
    "    #We use a 'try, except...' because some of the links are corrupted, and typically if the script \n",
    "    #couldn't find the object it would terminate - the 'try, except...' prevents that\n",
<<<<<<< HEAD
    "    try:\n",
    "        Report_Occurred = Report[0]\n",
    "    except (IndexError):\n",
    "        Report_Occurred = '' \n",
    "    Occurred = Occurred + [Report_Occurred]\n",
    "\n",
    "    try:\n",
    "        Report_Reported = Report[1]\n",
    "    except (IndexError):\n",
    "        Report_Reported = ''\n",
    "    Reported = Reported + [Report_Reported]\n",
    "\n",
    "    try:\n",
    "        Report_Posted = Report[2]\n",
    "    except (IndexError):\n",
    "        Report_Posted = ''\n",
    "    Posted = Posted + [Report_Posted]\n",
    "\n",
    "    try:\n",
    "        Report_Location = Report[3]\n",
    "    except (IndexError):\n",
    "        Report_Location = ''\n",
    "    Location = Location + [Report_Location]\n",
    "\n",
    "    try:\n",
    "        Report_Shape = Report[4]\n",
    "    except (IndexError):\n",
    "        Report_Shape = ''\n",
    "    Shape = Shape + [Report_Shape]\n",
    "\n",
    "    try:\n",
    "        Report_Duration = Report[5]\n",
    "    except (IndexError):\n",
    "        Report_Duration = ''\n",
    "    Duration = Duration + [Report_Duration]\n",
    "\n",
    "    try:\n",
    "        Report_Description = Report[6:len(Report)]\n",
    "        Report_Description = ''.join(Report_Description)\n",
    "    #Report_Description = ''.join(Report[6:len(Report)])\n",
    "    except (IndexError):\n",
    "        Report_Description = ''\n",
    "    Description = Description + [Report_Description]\n",
=======
    ">>>>>>> remote\n",
    "    try:\n",
    "        tree = html.fromstring(page.content) #This turns the contents of the webpage into a tree\n",
    "        Report = tree.xpath('//td/font/text()') #This is the XPath for the report contents, detailed above\n",
    "\n",
    "        #Here we split up all of the report content data\n",
    "        try:\n",
    "            Report_Occurred = Report[0]\n",
    "        except (IndexError):\n",
    "            Report_Occurred = '' \n",
    "        Occurred = Occurred + [Report_Occurred]\n",
    "\n",
    "        try:\n",
    "            Report_Reported = Report[1]\n",
    "        except (IndexError):\n",
    "            Report_Reported = ''\n",
    "        Reported = Reported + [Report_Reported]\n",
    "\n",
    "        try:\n",
    "            Report_Posted = Report[2]\n",
    "        except (IndexError):\n",
    "            Report_Posted = ''\n",
    "        Posted = Posted + [Report_Posted]\n",
    "\n",
    "        try:\n",
    "            Report_Location = Report[3]\n",
    "        except (IndexError):\n",
    "            Report_Location = ''\n",
    "        Location = Location + [Report_Location]\n",
    "\n",
    "        try:\n",
    "            Report_Shape = Report[4]\n",
    "        except (IndexError):\n",
    "            Report_Shape = ''\n",
    "        Shape = Shape + [Report_Shape]\n",
    "\n",
    "        try:\n",
    "            Report_Duration = Report[5]\n",
    "        except (IndexError):\n",
    "            Report_Duration = ''\n",
    "        Duration = Duration + [Report_Duration]\n",
    "\n",
    "        try:\n",
    "            Report_Description = Report[6:len(Report)]\n",
    "            Report_Description = ''.join(Report_Description)\n",
    "        #Report_Description = ''.join(Report[6:len(Report)])\n",
    "        except (IndexError):\n",
    "            Report_Description = ''\n",
    "        Description = Description + [Report_Description]\n",
    "    \n",
    "    except XMLSyntaxError:\n",
    "        continue\n",
>>>>>>> ffd32f59b2e1f5f98b08da87f3f983cca41539cb
    "    \n",
    "    #Record time taken and number of pages scraped\n",
    "    counter +=1\n",
    "    stop = timeit.default_timer()\n",
    "    \n",
    "    time_elapsed.append(str((stop - start)/60))\n",
    "    pred_completion.append(str((stop - start)/counter*len(report_links)/60))\n",
    "    \n",
    "    print(counter) #Number of pages scraped\n",
<<<<<<< HEAD
    "    print(round((stop - start)/60,2)) #Time taken\n",
    "    print(round((stop - start)/counter*len(report_links)/60,2)) #Predicted time taken\n",
    "\n",
    "#Compile time recordings and predictions into dictionary\n",
    "scrape_analysis2 = {\"Time Elapsed\": time_elapsed,\n",
    "                 \"Predicted Time to Completion\": pred_completion}"
   ]
  },
  {
   "cell_type": "code",
   "execution_count": null,
   "metadata": {
    "collapsed": true
   },
   "outputs": [],
   "source": [
=======
    "<<<<<<< local\n",
    "    print(round((stop - start)/3600,2)) #Time taken\n",
    "    print(round((stop - start)/counter*9044/3600,2)) #Predicted time taken\n",
    "=======\n",
    "    print(round((stop - start)/60,2)) #Time taken\n",
    "    print(round((stop - start)/counter*len(report_links)/60,2)) #Predicted time taken\n",
    ">>>>>>> remote\n",
    "\n",
    "#Compile time recordings and predictions into dictionary\n",
    "scrape_analysis2 = {\"Time Elapsed\": time_elapsed,\n",
    "                 \"Predicted Time to Completion\": pred_completion}\n",
    "\n",
>>>>>>> ffd32f59b2e1f5f98b08da87f3f983cca41539cb
    "#Compile into dictionary and dataframe, and save to CSV\n",
    "Report = {\"Occurred\":Occurred,\n",
    "         \"Reported\":Reported,\n",
    "         \"Posted\":Posted,\n",
    "         \"Location\":Location,\n",
    "         \"Shape\":Shape,\n",
    "         \"Duration\":Duration,\n",
    "         \"Description\":Description}\n",
    "\n",
    "#Save URLs and time analysis into CSV, to prevent need to rescrape if running at a later date\n",
<<<<<<< HEAD
    "pd.DataFrame(scrape_analysis2).to_csv(\"scrape_analysis2.csv\")\n",
    "pd.DataFrame(Report).to_csv(\"UFO_Reports.csv\")"
=======
    "pd.DataFrame(Report).to_csv(r\"Output/UFO_Reports.csv\",encoding=\"utf-8\")"
   ]
  },
  {
   "cell_type": "code",
   "execution_count": 20,
   "metadata": {
    "collapsed": true
   },
   "outputs": [],
   "source": [
    "#If CSVs need to be stitched together, as scrape of all data couldn't be run in one go\n",
    "\n",
    "#Get list of all CSVs in output file\n",
    "files = [filename for filename in os.listdir(\"./Output\") if filename.endswith(\".csv\") ]\n",
    "\n",
    "#Create CSV to be inputted into\n",
    "UFO_Reports=open(\"Output/UFO_Reports.csv\",\"a\")\n",
    "\n",
    "# first file:\n",
    "for line in open(\"Output/\" + files[0]):\n",
    "    UFO_Reports.write(line)\n",
    "\n",
    "# now the rest:    \n",
    "for filename in files[1:len(files)]:\n",
    "    f = open(\"Output/\" + filename)\n",
    "    f.next() # skip the header\n",
    "    for line in f:\n",
    "         UFO_Reports.write(line)\n",
    "    f.close()\n",
    "UFO_Reports.close()"
>>>>>>> ffd32f59b2e1f5f98b08da87f3f983cca41539cb
   ]
  }
 ],
 "metadata": {
  "kernelspec": {
<<<<<<< HEAD
   "display_name": "Python 2",
   "language": "python",
   "name": "python2"
=======
   "display_name": "Python [conda env:Python2]",
   "language": "python",
   "name": "conda-env-Python2-py"
>>>>>>> ffd32f59b2e1f5f98b08da87f3f983cca41539cb
  },
  "language_info": {
   "codemirror_mode": {
    "name": "ipython",
    "version": 2
   },
   "file_extension": ".py",
   "mimetype": "text/x-python",
   "name": "python",
   "nbconvert_exporter": "python",
   "pygments_lexer": "ipython2",
   "version": "2.7.13"
  }
 },
 "nbformat": 4,
 "nbformat_minor": 2
}
