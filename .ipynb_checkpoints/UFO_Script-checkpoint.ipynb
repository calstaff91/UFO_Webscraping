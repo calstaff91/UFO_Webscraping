{
 "cells": [
  {
   "cell_type": "markdown",
   "metadata": {},
   "source": [
    "## UFO Reportings Scrape\n",
    "\n",
    "### Callum Staff\n",
    "\n",
    "### September 2017\n",
    "\n",
    "This is code for a webscrape of UFO reports from the [National UFO Reporting Center](http://www.nuforc.org/) (NUFORC) in the United States.\n",
    "\n",
    "It provides a raw data table containing:\n",
    "* When the occurrence was\n",
    "* When the occurrence was reported\n",
    "* When the occurrence was posted on NUFORC\n",
    "* Where the occurence was\n",
    "* The shape of the UFO\n",
    "* The duration of the occurrence\n",
    "* A description of the occurrence\n",
    "\n",
    "The data webscraped in this script has not been cleaned."
   ]
  },
  {
   "cell_type": "markdown",
   "metadata": {},
   "source": [
    "Before we start though, we need to load in the libraries we require, and if scraping from a secure network, set the proxies."
   ]
  },
  {
   "cell_type": "code",
   "execution_count": 28,
   "metadata": {
    "collapsed": true
   },
   "outputs": [],
   "source": [
    "#Load in required libraries\n",
    "import pandas as pd\n",
    "import requests\n",
    "from requests.auth import HTTPProxyAuth\n",
    "from lxml import html\n",
    "import timeit\n",
    "import sys\n",
    "import matplotlib.pyplot as plt\n",
    "import numpy as np"
   ]
  },
  {
   "cell_type": "code",
   "execution_count": 29,
   "metadata": {},
   "outputs": [],
   "source": [
    "#Set scrape proxy\n",
    "proxy_string = 'http://192.168.2.40:8080'\n",
    "requests = requests.Session()\n",
    "requests.trust_env=False\n",
    "requests.proxies = {\"http\": proxy_string , \"https\": proxy_string}\n",
    "requests.auth = HTTPProxyAuth(\"ad\\USERNAME\",\"PASSWORD\")"
   ]
  },
  {
   "cell_type": "markdown",
   "metadata": {},
   "source": [
    "### Webscraping\n",
    "\n",
    "The process for the webscraping will be:\n",
    "1. Scrape the links for the month in which the occurence was: [http://www.nuforc.org/webreports/ndxevent.html](http://www.nuforc.org/webreports/ndxevent.html)\n",
    "2. Scrape the links for each occurrence (an example [here](http://www.nuforc.org/webreports/ndxe201709.html) - see links on lefthand side)\n",
    "3. Scrape the content for each occurrence"
   ]
  },
  {
   "cell_type": "code",
   "execution_count": 30,
   "metadata": {
    "collapsed": true
   },
   "outputs": [],
   "source": [
    "#Set the URL where the monthly occurence links are: base_url\n",
    "base_url = 'http://www.nuforc.org/webreports/ndxevent.html'"
   ]
  },
  {
   "cell_type": "code",
   "execution_count": 31,
   "metadata": {},
   "outputs": [],
   "source": [
    "### Scrape the first page using the base_url variable\n",
    "\n",
    "#Create empty links to scrape the data into\n",
    "links_list = []\n",
    "titles_list = []\n",
    "\n",
    "page = requests.get(base_url) #This sends a request to url_base and gets the contents of the webpage back\n",
    "tree = html.fromstring(page.content) #This turns the contents of the webpage into a tree\n",
    "links = tree.xpath('//font/a/@href') #This is the XPath for the hyperlink to each of the months\n",
    "links = ['http://www.nuforc.org/webreports/' + url for url in links] #This concatenates the hyperlink with the site url\n",
    "title = tree.xpath('//font/a/text()') #This is the Xpath for the title of each thread, as detailed above\n",
    "links_list = links_list + links #This adds each link to the empty list\n",
    "titles_list = titles_list + title #This adds each title to the empty list"
   ]
  },
  {
   "cell_type": "code",
   "execution_count": 32,
   "metadata": {},
   "outputs": [
    {
     "data": {
      "text/html": [
       "<div>\n",
       "<table border=\"1\" class=\"dataframe\">\n",
       "  <thead>\n",
       "    <tr style=\"text-align: right;\">\n",
       "      <th></th>\n",
       "      <th>Date</th>\n",
       "      <th>URL</th>\n",
       "    </tr>\n",
       "  </thead>\n",
       "  <tbody>\n",
       "    <tr>\n",
       "      <th>0</th>\n",
       "      <td>09/2017</td>\n",
       "      <td>http://www.nuforc.org/webreports/ndxe201709.html</td>\n",
       "    </tr>\n",
       "    <tr>\n",
       "      <th>1</th>\n",
       "      <td>08/2017</td>\n",
       "      <td>http://www.nuforc.org/webreports/ndxe201708.html</td>\n",
       "    </tr>\n",
       "    <tr>\n",
       "      <th>2</th>\n",
       "      <td>07/2017</td>\n",
       "      <td>http://www.nuforc.org/webreports/ndxe201707.html</td>\n",
       "    </tr>\n",
       "    <tr>\n",
       "      <th>3</th>\n",
       "      <td>06/2017</td>\n",
       "      <td>http://www.nuforc.org/webreports/ndxe201706.html</td>\n",
       "    </tr>\n",
       "    <tr>\n",
       "      <th>4</th>\n",
       "      <td>05/2017</td>\n",
       "      <td>http://www.nuforc.org/webreports/ndxe201705.html</td>\n",
       "    </tr>\n",
       "    <tr>\n",
       "      <th>5</th>\n",
       "      <td>04/2017</td>\n",
       "      <td>http://www.nuforc.org/webreports/ndxe201704.html</td>\n",
       "    </tr>\n",
       "    <tr>\n",
       "      <th>6</th>\n",
       "      <td>03/2017</td>\n",
       "      <td>http://www.nuforc.org/webreports/ndxe201703.html</td>\n",
       "    </tr>\n",
       "    <tr>\n",
       "      <th>7</th>\n",
       "      <td>02/2017</td>\n",
       "      <td>http://www.nuforc.org/webreports/ndxe201702.html</td>\n",
       "    </tr>\n",
       "    <tr>\n",
       "      <th>8</th>\n",
       "      <td>01/2017</td>\n",
       "      <td>http://www.nuforc.org/webreports/ndxe201701.html</td>\n",
       "    </tr>\n",
       "  </tbody>\n",
       "</table>\n",
       "</div>"
      ],
      "text/plain": [
       "      Date                                               URL\n",
       "0  09/2017  http://www.nuforc.org/webreports/ndxe201709.html\n",
       "1  08/2017  http://www.nuforc.org/webreports/ndxe201708.html\n",
       "2  07/2017  http://www.nuforc.org/webreports/ndxe201707.html\n",
       "3  06/2017  http://www.nuforc.org/webreports/ndxe201706.html\n",
       "4  05/2017  http://www.nuforc.org/webreports/ndxe201705.html\n",
       "5  04/2017  http://www.nuforc.org/webreports/ndxe201704.html\n",
       "6  03/2017  http://www.nuforc.org/webreports/ndxe201703.html\n",
       "7  02/2017  http://www.nuforc.org/webreports/ndxe201702.html\n",
       "8  01/2017  http://www.nuforc.org/webreports/ndxe201701.html"
      ]
     },
     "execution_count": 32,
     "metadata": {},
     "output_type": "execute_result"
    }
   ],
   "source": [
    "#Compile monthly report links into a dictionary and dataframe and then print\n",
    "monthly_reports = {\"Date\": titles_list,\n",
    "                  \"URL\": links_list}\n",
    "monthly_reports_df = pd.DataFrame(monthly_reports)\n",
    "monthly_reports_df[0:9]"
   ]
  },
  {
   "cell_type": "code",
   "execution_count": null,
   "metadata": {
    "collapsed": true,
    "scrolled": true
   },
   "outputs": [],
   "source": [
    "#For each month, scrape the links to each occurence\n",
    "\n",
    "#Create empty lists to scrape the data into\n",
    "report_links = []\n",
    "\n",
    "#Create empty lists to show time taken and predicted time taken\n",
    "time_elapsed = []\n",
    "pred_completion = []\n",
    "\n",
    "#Create objects to record number of pages scraped and time taken\n",
    "counter = 0\n",
    "start = timeit.default_timer()\n",
    "\n",
    "for page_url in monthly_reports_df['URL']:\n",
    "    page = requests.get(page_url) #This sends a request to url_base and gets the contents of the webpage back\n",
    "    tree = html.fromstring(page.content) #This turns the contents of the webpage into a tree\n",
    "    links = tree.xpath('//font/a/@href') #This is the XPath for the hyperlink to each of the reports, detailed above\n",
    "    links = ['http://www.nuforc.org/webreports/' + url for url in links] #This concatenates the hyperlink with the site url\n",
    "    report_links = report_links + links #This adds each link to the empty list\n",
    "    \n",
    "    #Record time taken and number of pages scraped\n",
    "    counter +=1\n",
    "    stop = timeit.default_timer()\n",
    "    \n",
    "    time_elapsed.append(str((stop - start)/60))\n",
    "    pred_completion.append(str((stop - start)/counter*len(titles_list)/60))\n",
    "    \n",
    "    print(counter) #Number of pages scraped\n",
    "    print(round((stop - start)/60,2)) #Time taken\n",
    "    print(round((stop - start)/counter*len(titles_list)/60,2)) #Predicted time taken\n",
    "\n",
    "#Compile time recordings and predictions into dictionary\n",
    "scrape_analysis1 = {\"Time Elapsed\": time_elapsed,\n",
    "                 \"Predicted Time to Completion\": pred_completion}"
   ]
  },
  {
   "cell_type": "code",
   "execution_count": null,
   "metadata": {},
   "outputs": [],
   "source": [
    "#Save URLs and time analysis into CSV, to prevent need to rescrape if running at a later date\n",
    "pd.DataFrame(scrape_analysis1).to_csv(\"scrape_analysis.csv\")\n",
    "pd.DataFrame({\"URL\":report_links}).to_csv(\"report_links.csv\")"
   ]
  },
  {
   "cell_type": "code",
   "execution_count": 21,
   "metadata": {},
   "outputs": [
    {
     "data": {
      "text/html": [
       "<div>\n",
       "<table border=\"1\" class=\"dataframe\">\n",
       "  <thead>\n",
       "    <tr style=\"text-align: right;\">\n",
       "      <th></th>\n",
       "      <th>Unnamed: 0</th>\n",
       "      <th>Predicted Time to Completion</th>\n",
       "      <th>Time Elapsed</th>\n",
       "    </tr>\n",
       "  </thead>\n",
       "  <tbody>\n",
       "    <tr>\n",
       "      <th>0</th>\n",
       "      <td>0</td>\n",
       "      <td>23.196383</td>\n",
       "      <td>0.025660</td>\n",
       "    </tr>\n",
       "    <tr>\n",
       "      <th>1</th>\n",
       "      <td>1</td>\n",
       "      <td>12.540886</td>\n",
       "      <td>0.027745</td>\n",
       "    </tr>\n",
       "    <tr>\n",
       "      <th>2</th>\n",
       "      <td>2</td>\n",
       "      <td>9.151835</td>\n",
       "      <td>0.030371</td>\n",
       "    </tr>\n",
       "    <tr>\n",
       "      <th>3</th>\n",
       "      <td>3</td>\n",
       "      <td>7.361431</td>\n",
       "      <td>0.032573</td>\n",
       "    </tr>\n",
       "    <tr>\n",
       "      <th>4</th>\n",
       "      <td>4</td>\n",
       "      <td>6.264179</td>\n",
       "      <td>0.034647</td>\n",
       "    </tr>\n",
       "    <tr>\n",
       "      <th>5</th>\n",
       "      <td>5</td>\n",
       "      <td>5.563640</td>\n",
       "      <td>0.036927</td>\n",
       "    </tr>\n",
       "    <tr>\n",
       "      <th>6</th>\n",
       "      <td>6</td>\n",
       "      <td>5.212423</td>\n",
       "      <td>0.040362</td>\n",
       "    </tr>\n",
       "    <tr>\n",
       "      <th>7</th>\n",
       "      <td>7</td>\n",
       "      <td>4.856531</td>\n",
       "      <td>0.042978</td>\n",
       "    </tr>\n",
       "    <tr>\n",
       "      <th>8</th>\n",
       "      <td>8</td>\n",
       "      <td>16.655558</td>\n",
       "      <td>0.165819</td>\n",
       "    </tr>\n",
       "  </tbody>\n",
       "</table>\n",
       "</div>"
      ],
      "text/plain": [
       "   Unnamed: 0  Predicted Time to Completion  Time Elapsed\n",
       "0           0                     23.196383      0.025660\n",
       "1           1                     12.540886      0.027745\n",
       "2           2                      9.151835      0.030371\n",
       "3           3                      7.361431      0.032573\n",
       "4           4                      6.264179      0.034647\n",
       "5           5                      5.563640      0.036927\n",
       "6           6                      5.212423      0.040362\n",
       "7           7                      4.856531      0.042978\n",
       "8           8                     16.655558      0.165819"
      ]
     },
     "execution_count": 21,
     "metadata": {},
     "output_type": "execute_result"
    }
   ],
   "source": [
    "#Reload links to each report from CSV\n",
    "report_links = pd.read_csv(\"report_links.csv\")\n",
    "scrape_analysis1 = pd.read_csv(\"scrape_analysis.csv\")\n",
    "scrape_analysis1[0:9]"
   ]
  },
  {
   "cell_type": "markdown",
   "metadata": {},
   "source": [
    "<hr/>\n",
    "\n",
    "As a quick aside, let's see how long scrapes were taking and how this affected predictions:\n",
    "\n",
    "Predicted total time is the time taken so far divided by the number of pages multipled by total number of pages to scrape.\n",
    "\n",
    "We can see here that early on the pages were taking ages to scrape for som reason, so the predicted time was way higher for this particular scrape (it could vary on each run due to things link network traffic)."
   ]
  },
  {
   "cell_type": "code",
   "execution_count": 22,
   "metadata": {},
   "outputs": [
    {
     "data": {
      "image/png": "[encoded data removed]",
      "text/plain": [
       "<matplotlib.figure.Figure at 0xb5ada90>"
      ]
     },
     "metadata": {},
     "output_type": "display_data"
    }
   ],
   "source": [
    "fig, ax = plt.subplots()\n",
    "plt.rc(\"figure\", facecolor=\"white\")\n",
    "plt.plot(range(1,len(scrape_analysis1)+1),scrape_analysis1['Time Elapsed'])\n",
    "plt.plot(range(1,len(scrape_analysis1)+1),scrape_analysis1['Predicted Time to Completion'])\n",
    "plt.legend(['Time Elapsed', 'Predicted Time to Completion'], loc='upper right')\n",
    "ax.set_xlabel('Pages Scraped', fontsize = 11)\n",
    "ax.set_ylabel('Time (Minutes)', fontsize = 11)\n",
    "ax.spines['right'].set_visible(False)\n",
    "ax.spines['top'].set_visible(False)\n",
    "plt.show()"
   ]
  },
  {
   "cell_type": "code",
   "execution_count": null,
   "metadata": {
    "collapsed": true
   },
   "outputs": [],
   "source": [
    "#Finally, scrape the content from each report\n",
    "\n",
    "#Create empty lists to scrape the data into\n",
    "Occurred = []\n",
    "Reported = []\n",
    "Posted = []\n",
    "Location = []\n",
    "Shape = []\n",
    "Duration = []\n",
    "Description = []\n",
    "\n",
    "#Create objects to record number of pages scraped and time taken\n",
    "counter = 0\n",
    "start = timeit.default_timer()\n",
    "\n",
    "for url in report_links['URL']:\n",
    "\n",
    "    page = requests.get(url) #This sends a request to url_base and gets the contents of the webpage back\n",
    "    tree = html.fromstring(page.content) #This turns the contents of the webpage into a tree\n",
    "    Report = tree.xpath('//td/font/text()') #This is the XPath for the report contents, detailed above\n",
    "\n",
    "    #Here we split up all of the report content data\n",
    "    Report_Occurred = Report[0]\n",
    "    Occurred = Occurred + [Report_Occurred]\n",
    "\n",
    "    Report_Reported = Report[1]\n",
    "    Reported = Reported + [Report_Reported]\n",
    "\n",
    "    Report_Posted = Report[2]\n",
    "    Posted = Posted + [Report_Posted]\n",
    "\n",
    "    Report_Location = Report[3]\n",
    "    Location = Location + [Report_Location]\n",
    "\n",
    "    Report_Shape = Report[4]\n",
    "    Shape = Shape + [Report_Shape]\n",
    "\n",
    "    Report_Duration = Report[5]\n",
    "    Duration = Duration + [Report_Duration]\n",
    "\n",
    "    Report_Description = Report[6:len(Report)]\n",
    "    Report_Description = ''.join(Report_Description)\n",
    "    #Report_Description = ''.join(Report[6:len(Report)])\n",
    "    Description = Description + [Report_Description]\n",
    "    \n",
    "    #Record time taken and number of pages scraped\n",
    "    counter+=1\n",
    "    stop = timeit.default_timer()\n",
    "    \n",
    "    print(counter) #Number of pages scraped\n",
    "    print(round((stop - start)/60,2)) #Time taken\n",
    "    print(round((stop - start)/counter*len(report_links)/60,2)) #Predicted time taken"
   ]
  },
  {
   "cell_type": "code",
   "execution_count": null,
   "metadata": {
    "collapsed": true
   },
   "outputs": [],
   "source": [
    "#Compile into dictionary and dataframe, and save to CSV\n",
    "Report = {\"Occurred\":Occurred,\n",
    "         \"Reported\":Reported,\n",
    "         \"Posted\":Posted,\n",
    "         \"Location\":Location,\n",
    "         \"Shape\":Shape,\n",
    "         \"Duration\":Duration,\n",
    "         \"Description\":Description}\n",
    "\n",
    "pd.DataFrame(Report).to_csv(\"Reports.csv\")"
   ]
  }
 ],
 "metadata": {
  "kernelspec": {
   "display_name": "Python 2",
   "language": "python",
   "name": "python2"
  },
  "language_info": {
   "codemirror_mode": {
    "name": "ipython",
    "version": 2
   },
   "file_extension": ".py",
   "mimetype": "text/x-python",
   "name": "python",
   "nbconvert_exporter": "python",
   "pygments_lexer": "ipython2",
   "version": "2.7.13"
  }
 },
 "nbformat": 4,
 "nbformat_minor": 2
}
